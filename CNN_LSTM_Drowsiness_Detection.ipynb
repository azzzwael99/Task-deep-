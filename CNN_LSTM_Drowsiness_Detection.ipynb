{
 "cells": [
  {
   "cell_type": "markdown",
   "id": "ebb4f391",
   "metadata": {},
   "source": [
    "# **اكتشاف نعاس السائق باستخدام CNN-LSTM**\n",
    "يهدف هذا النموذج إلى تحليل تسلسل الصور من فيديو السائق لتحديد ما إذا كان في حالة **يقظة** أو **نعاس**."
   ]
  },
  {
   "cell_type": "code",
   "execution_count": null,
   "id": "4af7fef7",
   "metadata": {},
   "outputs": [],
   "source": [
    "\n",
    "import tensorflow as tf\n",
    "from tensorflow.keras.models import Sequential\n",
    "from tensorflow.keras.layers import Conv2D, MaxPooling2D, Flatten, LSTM, Dense, TimeDistributed, Dropout\n",
    "import numpy as np\n",
    "import cv2\n",
    "import os\n",
    "from sklearn.model_selection import train_test_split\n",
    "\n",
    "# وظيفة لتحميل البيانات وإنشاء تسلسل زمني من الصور\n",
    "def load_data(data_path, img_size=(64, 64), sequence_length=10):\n",
    "    X, y = [], []\n",
    "    labels = {'alert': 0, 'drowsy': 1}  # تصنيف الحالات\n",
    "\n",
    "    for category in os.listdir(data_path):\n",
    "        class_path = os.path.join(data_path, category)\n",
    "        if not os.path.isdir(class_path):\n",
    "            continue\n",
    "        \n",
    "        frames = []\n",
    "        for img_name in sorted(os.listdir(class_path)):\n",
    "            img_path = os.path.join(class_path, img_name)\n",
    "            img = cv2.imread(img_path)\n",
    "            img = cv2.resize(img, img_size) / 255.0\n",
    "            frames.append(img)\n",
    "\n",
    "            if len(frames) == sequence_length:\n",
    "                X.append(frames)\n",
    "                y.append(labels[category])\n",
    "                frames = frames[1:]  # التمرير عبر النوافذ الزمنية\n",
    "        \n",
    "    X, y = np.array(X), np.array(y)\n",
    "    return X, y\n"
   ]
  },
  {
   "cell_type": "markdown",
   "id": "db0a5daa",
   "metadata": {},
   "source": [
    "## **تحميل البيانات**\n",
    "يتم هنا تحميل البيانات من المسار المحدد، حيث يجب تعديل `data_path` ليشير إلى موقع البيانات لديك."
   ]
  },
  {
   "cell_type": "code",
   "execution_count": null,
   "id": "72e4557f",
   "metadata": {},
   "outputs": [],
   "source": [
    "\n",
    "# **ضع هنا مسار البيانات الفعلي**\n",
    "data_path = \"/path/to/dataset\"  \n",
    "X, y = load_data(data_path)\n",
    "\n",
    "# تقسيم البيانات إلى تدريب واختبار\n",
    "X_train, X_test, y_train, y_test = train_test_split(X, y, test_size=0.2, random_state=42)\n"
   ]
  },
  {
   "cell_type": "markdown",
   "id": "7aa249b2",
   "metadata": {},
   "source": [
    "## **بناء نموذج CNN-LSTM**\n",
    "يتم بناء النموذج باستخدام **CNN لاستخراج الميزات** ثم **LSTM لمعالجة التتابع الزمني**."
   ]
  },
  {
   "cell_type": "code",
   "execution_count": null,
   "id": "cc19e0cc",
   "metadata": {},
   "outputs": [],
   "source": [
    "\n",
    "# **بناء نموذج CNN-LSTM**\n",
    "model = Sequential([\n",
    "    TimeDistributed(Conv2D(32, (3,3), activation='relu', padding='same'), input_shape=(10, 64, 64, 3)),\n",
    "    TimeDistributed(MaxPooling2D((2,2))),\n",
    "    TimeDistributed(Conv2D(64, (3,3), activation='relu', padding='same')),\n",
    "    TimeDistributed(MaxPooling2D((2,2))),\n",
    "    TimeDistributed(Flatten()),\n",
    "\n",
    "    LSTM(64, return_sequences=True),\n",
    "    LSTM(32),\n",
    "    Dropout(0.5),\n",
    "    Dense(32, activation='relu'),\n",
    "    Dense(1, activation='sigmoid')\n",
    "])\n",
    "\n",
    "# **إعداد النموذج للتدريب**\n",
    "model.compile(loss='binary_crossentropy', optimizer='adam', metrics=['accuracy'])\n"
   ]
  },
  {
   "cell_type": "markdown",
   "id": "8dc4f364",
   "metadata": {},
   "source": [
    "## **تدريب النموذج**\n",
    "يتم تدريب النموذج باستخدام البيانات التي تم تحميلها سابقًا."
   ]
  },
  {
   "cell_type": "code",
   "execution_count": null,
   "id": "d2ba384e",
   "metadata": {},
   "outputs": [],
   "source": [
    "\n",
    "# **تدريب النموذج**\n",
    "history = model.fit(X_train, y_train, epochs=10, batch_size=16, validation_data=(X_test, y_test))\n"
   ]
  },
  {
   "cell_type": "markdown",
   "id": "64f1e38b",
   "metadata": {},
   "source": [
    "## **تقييم النموذج**\n",
    "يتم هنا تقييم دقة النموذج على بيانات الاختبار."
   ]
  },
  {
   "cell_type": "code",
   "execution_count": null,
   "id": "d39fa1c8",
   "metadata": {},
   "outputs": [],
   "source": [
    "\n",
    "# **تقييم النموذج**\n",
    "loss, acc = model.evaluate(X_test, y_test)\n",
    "print(f\"Test Accuracy: {acc:.2f}\")\n"
   ]
  }
 ],
 "metadata": {},
 "nbformat": 4,
 "nbformat_minor": 5
}
